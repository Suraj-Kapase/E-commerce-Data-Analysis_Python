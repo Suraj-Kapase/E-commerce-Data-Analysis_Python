{
 "cells": [
  {
   "cell_type": "code",
   "execution_count": 2,
   "id": "9dee43cc-57e1-49a9-add6-5f3837fdaee4",
   "metadata": {},
   "outputs": [],
   "source": [
    "import pandas as pd"
   ]
  },
  {
   "cell_type": "code",
   "execution_count": 3,
   "id": "1bc0042c-c14f-4407-a72d-3e49b0f7e61d",
   "metadata": {},
   "outputs": [],
   "source": [
    "import numpy as np"
   ]
  },
  {
   "cell_type": "code",
   "execution_count": 4,
   "id": "eda0a8eb-f0ba-40ab-ac5c-71ceb103c590",
   "metadata": {},
   "outputs": [],
   "source": [
    "import matplotlib.pyplot as plt"
   ]
  },
  {
   "cell_type": "code",
   "execution_count": 5,
   "id": "31f82dd8-f540-4f0e-a70d-7a243ce862b5",
   "metadata": {},
   "outputs": [],
   "source": [
    "data = pd.read_csv(\"E-commerce Dataset.csv\")"
   ]
  },
  {
   "cell_type": "code",
   "execution_count": 6,
   "id": "8b63f32d-9413-4753-b136-f18313066766",
   "metadata": {},
   "outputs": [],
   "source": [
    "df=pd.DataFrame(data)"
   ]
  },
  {
   "cell_type": "code",
   "execution_count": 7,
   "id": "1d5b7804-9e61-4ec7-b21e-d5a17928df65",
   "metadata": {},
   "outputs": [
    {
     "data": {
      "text/html": [
       "<div>\n",
       "<style scoped>\n",
       "    .dataframe tbody tr th:only-of-type {\n",
       "        vertical-align: middle;\n",
       "    }\n",
       "\n",
       "    .dataframe tbody tr th {\n",
       "        vertical-align: top;\n",
       "    }\n",
       "\n",
       "    .dataframe thead th {\n",
       "        text-align: right;\n",
       "    }\n",
       "</style>\n",
       "<table border=\"1\" class=\"dataframe\">\n",
       "  <thead>\n",
       "    <tr style=\"text-align: right;\">\n",
       "      <th></th>\n",
       "      <th>Order_Date</th>\n",
       "      <th>Time</th>\n",
       "      <th>Aging</th>\n",
       "      <th>Customer_Id</th>\n",
       "      <th>Gender</th>\n",
       "      <th>Device_Type</th>\n",
       "      <th>Customer_Login_type</th>\n",
       "      <th>Product_Category</th>\n",
       "      <th>Product</th>\n",
       "      <th>Sales</th>\n",
       "      <th>Quantity</th>\n",
       "      <th>Discount</th>\n",
       "      <th>Profit</th>\n",
       "      <th>Shipping_Cost</th>\n",
       "      <th>Order_Priority</th>\n",
       "      <th>Payment_method</th>\n",
       "    </tr>\n",
       "  </thead>\n",
       "  <tbody>\n",
       "    <tr>\n",
       "      <th>0</th>\n",
       "      <td>2018-01-02</td>\n",
       "      <td>10:56:33</td>\n",
       "      <td>8.0</td>\n",
       "      <td>37077</td>\n",
       "      <td>Female</td>\n",
       "      <td>Web</td>\n",
       "      <td>Member</td>\n",
       "      <td>Auto &amp; Accessories</td>\n",
       "      <td>Car Media Players</td>\n",
       "      <td>140.0</td>\n",
       "      <td>1.0</td>\n",
       "      <td>0.3</td>\n",
       "      <td>46.0</td>\n",
       "      <td>4.6</td>\n",
       "      <td>Medium</td>\n",
       "      <td>credit_card</td>\n",
       "    </tr>\n",
       "    <tr>\n",
       "      <th>1</th>\n",
       "      <td>2018-07-24</td>\n",
       "      <td>20:41:37</td>\n",
       "      <td>2.0</td>\n",
       "      <td>59173</td>\n",
       "      <td>Female</td>\n",
       "      <td>Web</td>\n",
       "      <td>Member</td>\n",
       "      <td>Auto &amp; Accessories</td>\n",
       "      <td>Car Speakers</td>\n",
       "      <td>211.0</td>\n",
       "      <td>1.0</td>\n",
       "      <td>0.3</td>\n",
       "      <td>112.0</td>\n",
       "      <td>11.2</td>\n",
       "      <td>Medium</td>\n",
       "      <td>credit_card</td>\n",
       "    </tr>\n",
       "    <tr>\n",
       "      <th>2</th>\n",
       "      <td>2018-11-08</td>\n",
       "      <td>08:38:49</td>\n",
       "      <td>8.0</td>\n",
       "      <td>41066</td>\n",
       "      <td>Female</td>\n",
       "      <td>Web</td>\n",
       "      <td>Member</td>\n",
       "      <td>Auto &amp; Accessories</td>\n",
       "      <td>Car Body Covers</td>\n",
       "      <td>117.0</td>\n",
       "      <td>5.0</td>\n",
       "      <td>0.1</td>\n",
       "      <td>31.2</td>\n",
       "      <td>3.1</td>\n",
       "      <td>Critical</td>\n",
       "      <td>credit_card</td>\n",
       "    </tr>\n",
       "    <tr>\n",
       "      <th>3</th>\n",
       "      <td>2018-04-18</td>\n",
       "      <td>19:28:06</td>\n",
       "      <td>7.0</td>\n",
       "      <td>50741</td>\n",
       "      <td>Female</td>\n",
       "      <td>Web</td>\n",
       "      <td>Member</td>\n",
       "      <td>Auto &amp; Accessories</td>\n",
       "      <td>Car &amp; Bike Care</td>\n",
       "      <td>118.0</td>\n",
       "      <td>1.0</td>\n",
       "      <td>0.3</td>\n",
       "      <td>26.2</td>\n",
       "      <td>2.6</td>\n",
       "      <td>High</td>\n",
       "      <td>credit_card</td>\n",
       "    </tr>\n",
       "    <tr>\n",
       "      <th>4</th>\n",
       "      <td>2018-08-13</td>\n",
       "      <td>21:18:39</td>\n",
       "      <td>9.0</td>\n",
       "      <td>53639</td>\n",
       "      <td>Female</td>\n",
       "      <td>Web</td>\n",
       "      <td>Member</td>\n",
       "      <td>Auto &amp; Accessories</td>\n",
       "      <td>Tyre</td>\n",
       "      <td>250.0</td>\n",
       "      <td>1.0</td>\n",
       "      <td>0.3</td>\n",
       "      <td>160.0</td>\n",
       "      <td>16.0</td>\n",
       "      <td>Critical</td>\n",
       "      <td>credit_card</td>\n",
       "    </tr>\n",
       "  </tbody>\n",
       "</table>\n",
       "</div>"
      ],
      "text/plain": [
       "   Order_Date      Time  Aging  Customer_Id  Gender Device_Type  \\\n",
       "0  2018-01-02  10:56:33    8.0        37077  Female         Web   \n",
       "1  2018-07-24  20:41:37    2.0        59173  Female         Web   \n",
       "2  2018-11-08  08:38:49    8.0        41066  Female         Web   \n",
       "3  2018-04-18  19:28:06    7.0        50741  Female         Web   \n",
       "4  2018-08-13  21:18:39    9.0        53639  Female         Web   \n",
       "\n",
       "  Customer_Login_type    Product_Category            Product  Sales  Quantity  \\\n",
       "0              Member  Auto & Accessories  Car Media Players  140.0       1.0   \n",
       "1              Member  Auto & Accessories       Car Speakers  211.0       1.0   \n",
       "2              Member  Auto & Accessories    Car Body Covers  117.0       5.0   \n",
       "3              Member  Auto & Accessories    Car & Bike Care  118.0       1.0   \n",
       "4              Member  Auto & Accessories               Tyre  250.0       1.0   \n",
       "\n",
       "   Discount  Profit  Shipping_Cost Order_Priority Payment_method  \n",
       "0       0.3    46.0            4.6         Medium    credit_card  \n",
       "1       0.3   112.0           11.2         Medium    credit_card  \n",
       "2       0.1    31.2            3.1       Critical    credit_card  \n",
       "3       0.3    26.2            2.6           High    credit_card  \n",
       "4       0.3   160.0           16.0       Critical    credit_card  "
      ]
     },
     "execution_count": 7,
     "metadata": {},
     "output_type": "execute_result"
    }
   ],
   "source": [
    "df.head(5)"
   ]
  },
  {
   "cell_type": "markdown",
   "id": "510b898e-3ad4-4ff9-a9dc-0655f3475905",
   "metadata": {},
   "source": [
    "## 1. What are the top 10 most sold products?"
   ]
  },
  {
   "cell_type": "code",
   "execution_count": 29,
   "id": "9206e5c7-647c-4d0b-a0c0-648dae4aa534",
   "metadata": {},
   "outputs": [],
   "source": [
    "sold_products = df.groupby(\"Product\")[\"Quantity\"].sum()"
   ]
  },
  {
   "cell_type": "code",
   "execution_count": 33,
   "id": "56f53a5b-7ce4-47ff-a49e-fc2344047310",
   "metadata": {},
   "outputs": [],
   "source": [
    "to_10_sold_products = sold_products.sort_values(ascending=False).head(10)"
   ]
  },
  {
   "cell_type": "code",
   "execution_count": 34,
   "id": "19f499d1-8700-4bd2-a7d2-4409da8df0ff",
   "metadata": {},
   "outputs": [
    {
     "name": "stdout",
     "output_type": "stream",
     "text": [
      "Product\n",
      "Titak watch      6254.0\n",
      "Formal Shoes     6154.0\n",
      "Sports Wear      6093.0\n",
      "Running Shoes    6064.0\n",
      "Fossil Watch     6050.0\n",
      "Sneakers         6049.0\n",
      "Casula Shoes     6035.0\n",
      "Shirts           6012.0\n",
      "Suits            5996.0\n",
      "T - Shirts       5986.0\n",
      "Name: Quantity, dtype: float64\n"
     ]
    }
   ],
   "source": [
    "print(to_10_sold_products)"
   ]
  },
  {
   "cell_type": "code",
   "execution_count": 53,
   "id": "405f06dd-4907-4cd9-9a94-0a511b0c4b74",
   "metadata": {},
   "outputs": [
    {
     "data": {
      "image/png": "[encoded data removed]",
      "text/plain": [
       "<Figure size 1300x400 with 1 Axes>"
      ]
     },
     "metadata": {},
     "output_type": "display_data"
    }
   ],
   "source": [
    "products = to_10_sold_products.index      # Product names\n",
    "quantities = to_10_sold_products.values   # Quantity sold\n",
    "plt.figure(figsize=(13, 4))\n",
    "plt.bar(products, quantities, color='skyblue')\n",
    "plt.show()"
   ]
  },
  {
   "attachments": {},
   "cell_type": "markdown",
   "id": "e5cba945-fa87-4bec-8cc1-205e80c5652b",
   "metadata": {},
   "source": [
    "## 2. Which product categories appear most often?"
   ]
  },
  {
   "cell_type": "code",
   "execution_count": 64,
   "id": "38e00b50-1e58-4a3d-865d-fabb691b332e",
   "metadata": {},
   "outputs": [],
   "source": [
    "Product_Category_count = df.groupby(\"Product_Category\")[\"Product_Category\"].count()"
   ]
  },
  {
   "cell_type": "code",
   "execution_count": 65,
   "id": "252d4029-8657-4440-821e-d2d3d41ccab5",
   "metadata": {},
   "outputs": [],
   "source": [
    "Common_Product_Category = Product_Category_count.sort_values(ascending = False).head(1)"
   ]
  },
  {
   "cell_type": "code",
   "execution_count": 66,
   "id": "ef27f69b-51e9-4aba-b430-ea5731e3a46e",
   "metadata": {},
   "outputs": [
    {
     "name": "stdout",
     "output_type": "stream",
     "text": [
      "Product_Category\n",
      "Fashion    25646\n",
      "Name: Product_Category, dtype: int64\n"
     ]
    }
   ],
   "source": [
    "print(Common_Product_Category)"
   ]
  },
  {
   "cell_type": "code",
   "execution_count": 67,
   "id": "0772d7b4-1de7-4fad-86b8-1bf6c575f222",
   "metadata": {},
   "outputs": [],
   "source": [
    "product_category = Product_Category_count.index\n",
    "Count = Product_Category_count.values"
   ]
  },
  {
   "cell_type": "code",
   "execution_count": 77,
   "id": "87659f49-fac5-4050-9e8b-8338271c0646",
   "metadata": {},
   "outputs": [
    {
     "data": {
      "image/png": "[encoded data removed]",
      "text/plain": [
       "<Figure size 600x400 with 1 Axes>"
      ]
     },
     "metadata": {},
     "output_type": "display_data"
    }
   ],
   "source": [
    "plt.figure(figsize=(6,4))\n",
    "plt.plot(product_category,Count, marker=\"s\")\n",
    "plt.show()"
   ]
  },
  {
   "cell_type": "markdown",
   "id": "211c21ee-5cd4-47f4-8cb8-7661171b2e8d",
   "metadata": {},
   "source": [
    "## 3. What is the total revenue generated?"
   ]
  },
  {
   "cell_type": "code",
   "execution_count": 78,
   "id": "3f5d6b2b-1276-4130-a569-b74a7a133cc3",
   "metadata": {},
   "outputs": [],
   "source": [
    "sale = df['Sales'].sum()"
   ]
  },
  {
   "cell_type": "code",
   "execution_count": 80,
   "id": "ff907f17-7c21-4160-9b85-7aaf93d54af9",
   "metadata": {},
   "outputs": [
    {
     "data": {
      "text/plain": [
       "7813411.0"
      ]
     },
     "execution_count": 80,
     "metadata": {},
     "output_type": "execute_result"
    }
   ],
   "source": [
    "print(sale)   #total revenue without deducting shipping cost"
   ]
  },
  {
   "cell_type": "code",
   "execution_count": 81,
   "id": "5409ad42-26fa-4984-ba68-2d640ce8a3a3",
   "metadata": {},
   "outputs": [],
   "source": [
    "total_revenue = (df['Sales']-df['Shipping_Cost']).sum()"
   ]
  },
  {
   "cell_type": "code",
   "execution_count": 82,
   "id": "873c1bc0-5b79-486c-9f19-afb08178445f",
   "metadata": {},
   "outputs": [
    {
     "name": "stdout",
     "output_type": "stream",
     "text": [
      "7452019.1\n"
     ]
    }
   ],
   "source": [
    "print(total_revenue)   ##total revenue after deducting shipping cost"
   ]
  },
  {
   "attachments": {},
   "cell_type": "markdown",
   "id": "d250c0f2-b826-410e-89eb-45ae1509ef64",
   "metadata": {},
   "source": [
    "## 4. What is the average order value?"
   ]
  },
  {
   "cell_type": "code",
   "execution_count": 85,
   "id": "248c8930-8121-47e0-b955-6ac27c92775c",
   "metadata": {},
   "outputs": [],
   "source": [
    "Order_value = df['Sales'].sum()"
   ]
  },
  {
   "cell_type": "code",
   "execution_count": 95,
   "id": "80bdbb5d-86e5-4dab-ba23-f1402b95c197",
   "metadata": {},
   "outputs": [],
   "source": [
    "total_order = df['Sales'].count()"
   ]
  },
  {
   "cell_type": "code",
   "execution_count": 96,
   "id": "9986b5f1-87c8-452d-8840-bc87cae67145",
   "metadata": {},
   "outputs": [],
   "source": [
    "average_order_value = Order_value/total_order"
   ]
  },
  {
   "cell_type": "code",
   "execution_count": 97,
   "id": "ec6cca56-e1aa-492d-b60b-df86b352edb8",
   "metadata": {},
   "outputs": [
    {
     "name": "stdout",
     "output_type": "stream",
     "text": [
      "152.34087231180175\n"
     ]
    }
   ],
   "source": [
    "print(average_order_value)  #average_order_value"
   ]
  },
  {
   "cell_type": "code",
   "execution_count": 27,
   "id": "2eb0daf4-22eb-4d3c-8b75-73f888c94c8f",
   "metadata": {},
   "outputs": [],
   "source": [
    "# OR"
   ]
  },
  {
   "cell_type": "code",
   "execution_count": 25,
   "id": "ed371629-1cb1-4e36-b135-1be333d752e0",
   "metadata": {},
   "outputs": [],
   "source": [
    "Order_value = df['Sales'].mean()"
   ]
  },
  {
   "cell_type": "code",
   "execution_count": 28,
   "id": "f21f475c-0732-4dab-9adb-cb20da195eac",
   "metadata": {},
   "outputs": [
    {
     "name": "stdout",
     "output_type": "stream",
     "text": [
      "152.34087231180175\n"
     ]
    }
   ],
   "source": [
    "print(Order_value)"
   ]
  },
  {
   "attachments": {},
   "cell_type": "markdown",
   "id": "3a3f59dd-5bfd-47ec-beab-479251f769d4",
   "metadata": {},
   "source": [
    "## 5. How many unique customers are there?"
   ]
  },
  {
   "cell_type": "code",
   "execution_count": 124,
   "id": "6c8b984d-d021-4cd2-9b79-d53fa227741d",
   "metadata": {},
   "outputs": [],
   "source": [
    "unique_customer = df[\"Customer_Id\"].nunique()"
   ]
  },
  {
   "cell_type": "code",
   "execution_count": 125,
   "id": "06a3b6e0-2270-4714-a30b-63d7b8198b56",
   "metadata": {},
   "outputs": [
    {
     "name": "stdout",
     "output_type": "stream",
     "text": [
      "unique_customer: 38997\n"
     ]
    }
   ],
   "source": [
    "print(\"unique_customer:\",unique_customer)"
   ]
  },
  {
   "cell_type": "markdown",
   "id": "9e200002-2575-4b0b-a376-adeccd8371a6",
   "metadata": {},
   "source": [
    "## 6. Which gender makes the most purchases?"
   ]
  },
  {
   "cell_type": "code",
   "execution_count": 129,
   "id": "cc75ff49-de69-48ec-b222-3d6e354d46a4",
   "metadata": {},
   "outputs": [],
   "source": [
    "most_purchases = df[\"Gender\"].value_counts().sort_values(ascending = False).head(1)"
   ]
  },
  {
   "cell_type": "code",
   "execution_count": 130,
   "id": "b233626b-2898-4346-9747-a940d6c4f01a",
   "metadata": {},
   "outputs": [
    {
     "name": "stdout",
     "output_type": "stream",
     "text": [
      "Gender\n",
      "Male    28138\n",
      "Name: count, dtype: int64\n"
     ]
    }
   ],
   "source": [
    "print(most_purchases)"
   ]
  },
  {
   "cell_type": "markdown",
   "id": "046f29df-1487-489d-83bc-4f3d70d8a973",
   "metadata": {},
   "source": [
    "## 7. How does the average order value differ by customer login type (Guest vs Member)?"
   ]
  },
  {
   "cell_type": "code",
   "execution_count": 32,
   "id": "2d088c3c-951b-4ae4-aa63-5ed4813d76ef",
   "metadata": {},
   "outputs": [],
   "source": [
    "avg_order_value  = df.groupby(\"Customer_Login_type\")[\"Sales\"].mean().sort_values(ascending = False)"
   ]
  },
  {
   "cell_type": "code",
   "execution_count": 33,
   "id": "d78aa4f2-fb85-4b48-8fca-53197c5bf7d9",
   "metadata": {},
   "outputs": [
    {
     "name": "stdout",
     "output_type": "stream",
     "text": [
      "Customer_Login_type\n",
      "New             173.407407\n",
      "Guest           154.488209\n",
      "Member          152.254501\n",
      "First SignUp    148.826590\n",
      "Name: Sales, dtype: float64\n"
     ]
    }
   ],
   "source": [
    "print(avg_order_value)   # customer login type tend to spend per order."
   ]
  },
  {
   "cell_type": "code",
   "execution_count": 34,
   "id": "14074817-fb6d-427b-98b9-dfcec53f7c4d",
   "metadata": {},
   "outputs": [],
   "source": [
    "Customer_Login_type = avg_order_value.index"
   ]
  },
  {
   "cell_type": "code",
   "execution_count": 35,
   "id": "c6f88686-1569-4819-a0e3-c3e1e94cd509",
   "metadata": {},
   "outputs": [],
   "source": [
    "avg_order_value = avg_order_value.values"
   ]
  },
  {
   "cell_type": "code",
   "execution_count": 38,
   "id": "2c023f58-becd-4344-aef7-8d7c5e76d4e2",
   "metadata": {},
   "outputs": [
    {
     "data": {
      "image/png": "[encoded data removed]",
      "text/plain": [
       "<Figure size 500x300 with 1 Axes>"
      ]
     },
     "metadata": {},
     "output_type": "display_data"
    }
   ],
   "source": [
    "plt.figure(figsize = (5,3))\n",
    "plt.bar(Customer_Login_type, avg_order_value)\n",
    "plt.show()"
   ]
  },
  {
   "cell_type": "markdown",
   "id": "dd0ff83c-49f6-407e-b027-cdb918ca42c3",
   "metadata": {},
   "source": [
    " ## 8. What is the distribution of sales across different payment methods?"
   ]
  },
  {
   "cell_type": "code",
   "execution_count": 40,
   "id": "1ba3b3f2-ebc4-4484-a250-c89c43b53f88",
   "metadata": {},
   "outputs": [],
   "source": [
    "distribution = df.groupby(\"Payment_method\")['Sales'].sum().sort_values(ascending = False)"
   ]
  },
  {
   "cell_type": "code",
   "execution_count": 41,
   "id": "4cb7f031-06b2-47ee-ad33-49189e639eba",
   "metadata": {},
   "outputs": [
    {
     "name": "stdout",
     "output_type": "stream",
     "text": [
      "Distribution of sales across different payment methods: Payment_method\n",
      "credit_card    5819379.0\n",
      "money_order    1461269.0\n",
      "e_wallet        422750.0\n",
      "debit_card      109979.0\n",
      "not_defined         34.0\n",
      "Name: Sales, dtype: float64\n"
     ]
    }
   ],
   "source": [
    "print(\"Distribution of sales across different payment methods:\", distribution)"
   ]
  },
  {
   "cell_type": "code",
   "execution_count": 42,
   "id": "a5da910e-d160-4008-8ff4-2588773b11cf",
   "metadata": {},
   "outputs": [],
   "source": [
    "Payment_method = distribution.index"
   ]
  },
  {
   "cell_type": "code",
   "execution_count": 43,
   "id": "545312e0-8ec5-470b-8e8b-f4a51ba8ca1e",
   "metadata": {},
   "outputs": [],
   "source": [
    "Sales = distribution.values"
   ]
  },
  {
   "cell_type": "code",
   "execution_count": 52,
   "id": "2fa6644a-70d3-47c6-a5eb-95b670d7bbd1",
   "metadata": {},
   "outputs": [
    {
     "data": {
      "image/png": "[encoded data removed]",
      "text/plain": [
       "<Figure size 500x500 with 1 Axes>"
      ]
     },
     "metadata": {},
     "output_type": "display_data"
    }
   ],
   "source": [
    "plt.figure(figsize = (5,5))\n",
    "plt.pie(Sales, labels = Payment_method, autopct = \"%1.1f%%\")\n",
    "plt.show()"
   ]
  },
  {
   "cell_type": "markdown",
   "id": "aeeca308-3233-4e91-b7e7-f943f107fc25",
   "metadata": {},
   "source": [
    "## 9. How do discounts affect profit margins?"
   ]
  },
  {
   "cell_type": "code",
   "execution_count": 62,
   "id": "622a0c73-7db8-4753-a8e7-d909d5564ee9",
   "metadata": {},
   "outputs": [
    {
     "name": "stdout",
     "output_type": "stream",
     "text": [
      "Discount\n",
      "0.1    0.451229\n",
      "0.2    0.437836\n",
      "0.3    0.414772\n",
      "0.4    0.419527\n",
      "0.5    0.408821\n",
      "Name: Profit_Margin, dtype: float64\n"
     ]
    }
   ],
   "source": [
    "df[\"Profit_Margin\"] = (df[\"Profit\"] / df[\"Sales\"])  # profit margin for each order\n",
    "\n",
    "result = df.groupby(\"Discount\")[\"Profit_Margin\"].mean().sort_index() \n",
    "print(result)    # showing result for how profit margin goes as discount increases\n"
   ]
  },
  {
   "cell_type": "code",
   "execution_count": 63,
   "id": "e66802de-cbb4-409f-a2c3-4101f718ec46",
   "metadata": {},
   "outputs": [],
   "source": [
    "# As a result - when discount increases profit margin decreases."
   ]
  },
  {
   "cell_type": "markdown",
   "id": "c65ea351-fcc8-450c-974c-9c3d1bb20d80",
   "metadata": {},
   "source": [
    "## 10. What is the trend of sales over months in 2018?"
   ]
  },
  {
   "cell_type": "code",
   "execution_count": 68,
   "id": "fff7a24d-9650-47a4-81aa-e3df0fe20ac7",
   "metadata": {},
   "outputs": [],
   "source": [
    "df[\"Order_Date\"] = pd.to_datetime(df[\"Order_Date\"])"
   ]
  },
  {
   "cell_type": "code",
   "execution_count": 69,
   "id": "70f12cf3-45ce-410a-b694-628a0cb1daf9",
   "metadata": {},
   "outputs": [],
   "source": [
    "df[\"Year\"] = df[\"Order_Date\"].dt.year"
   ]
  },
  {
   "cell_type": "code",
   "execution_count": 70,
   "id": "0efc6ed4-07d7-4a7d-adb3-39d78bb967b1",
   "metadata": {},
   "outputs": [],
   "source": [
    "df[\"Month\"] = df[\"Order_Date\"].dt.month"
   ]
  },
  {
   "cell_type": "code",
   "execution_count": 75,
   "id": "62bf3f30-367d-44c5-a13e-511f8c81c009",
   "metadata": {},
   "outputs": [],
   "source": [
    "Sales_2018 = df[df[\"Year\"] == 2018].groupby('Month')[\"Sales\"].sum()"
   ]
  },
  {
   "cell_type": "code",
   "execution_count": 76,
   "id": "0a39ad9e-7913-4e06-ac54-5705fab3e3d2",
   "metadata": {},
   "outputs": [
    {
     "data": {
      "text/plain": [
       "Month\n",
       "1     379627.0\n",
       "2     332495.0\n",
       "3     435502.0\n",
       "4     597312.0\n",
       "5     824502.0\n",
       "6     642555.0\n",
       "7     810205.0\n",
       "8     664495.0\n",
       "9     738303.0\n",
       "10    743387.0\n",
       "11    877881.0\n",
       "12    767147.0\n",
       "Name: Sales, dtype: float64"
      ]
     },
     "execution_count": 76,
     "metadata": {},
     "output_type": "execute_result"
    }
   ],
   "source": [
    "Sales_2018"
   ]
  },
  {
   "cell_type": "code",
   "execution_count": 78,
   "id": "b7d32c03-18f0-4a45-8b5f-8db4dbeb9db9",
   "metadata": {},
   "outputs": [],
   "source": [
    "sales = Sales_2018.values"
   ]
  },
  {
   "cell_type": "code",
   "execution_count": 79,
   "id": "9ee16890-39d2-415d-8e5b-aa14b5a36030",
   "metadata": {},
   "outputs": [],
   "source": [
    "Month = Sales_2018.index"
   ]
  },
  {
   "cell_type": "code",
   "execution_count": 82,
   "id": "97025b3c-6b6c-412e-9ad1-f7d8e0d56fa4",
   "metadata": {},
   "outputs": [
    {
     "data": {
      "image/png": "[encoded data removed]",
      "text/plain": [
       "<Figure size 640x480 with 1 Axes>"
      ]
     },
     "metadata": {},
     "output_type": "display_data"
    }
   ],
   "source": [
    "plt.plot(Month, sales, marker = \"o\")\n",
    "plt.show()"
   ]
  },
  {
   "cell_type": "markdown",
   "id": "4ff4fefd-b1f4-40c5-85dd-ac9a132b29d8",
   "metadata": {},
   "source": [
    "## 11. Create visualization for the top products, and high-value customers?"
   ]
  },
  {
   "cell_type": "code",
   "execution_count": 87,
   "id": "ba85df68-f9cc-4407-a041-ede0ff52c896",
   "metadata": {},
   "outputs": [],
   "source": [
    "Top_product = df.groupby(\"Product\")[\"Sales\"].sum().sort_values(ascending = False).head(5)"
   ]
  },
  {
   "cell_type": "code",
   "execution_count": 89,
   "id": "3710adbd-0f43-42b2-9346-e697f85c5575",
   "metadata": {},
   "outputs": [],
   "source": [
    "High_value_customer = df.groupby(\"Customer_Id\")[\"Sales\"].sum().sort_values(ascending = False).head(5)"
   ]
  },
  {
   "cell_type": "code",
   "execution_count": 99,
   "id": "df53ab21-525c-4eb4-831e-b8e627777e34",
   "metadata": {},
   "outputs": [],
   "source": [
    "Product = Top_product.index"
   ]
  },
  {
   "cell_type": "code",
   "execution_count": 100,
   "id": "3bfcec34-fbe2-4084-9855-e1c370aba964",
   "metadata": {},
   "outputs": [],
   "source": [
    "Sales = Top_product.values"
   ]
  },
  {
   "cell_type": "code",
   "execution_count": 111,
   "id": "bdb1b313-85ab-47cc-bbea-8e15c73d0d13",
   "metadata": {},
   "outputs": [
    {
     "data": {
      "image/png": "[encoded data removed]",
      "text/plain": [
       "<Figure size 640x480 with 1 Axes>"
      ]
     },
     "metadata": {},
     "output_type": "display_data"
    }
   ],
   "source": [
    "plt.bar(Product,Sales)\n",
    "plt.title(\"Top_Product\")\n",
    "plt.xlabel(\"Products\")\n",
    "plt.ylabel(\"Total_sales\")\n",
    "plt.show()"
   ]
  },
  {
   "cell_type": "code",
   "execution_count": 121,
   "id": "574fd873-b283-4863-be8c-d21e422af08d",
   "metadata": {},
   "outputs": [],
   "source": [
    "customer = High_value_customer.index"
   ]
  },
  {
   "cell_type": "code",
   "execution_count": 122,
   "id": "5ea3846f-9335-4d1c-983c-f85013d2b668",
   "metadata": {},
   "outputs": [],
   "source": [
    "sales = High_value_customer.values"
   ]
  },
  {
   "cell_type": "code",
   "execution_count": 127,
   "id": "3ef77c02-22f8-479d-8c77-823db9d1b941",
   "metadata": {},
   "outputs": [
    {
     "data": {
      "image/png": "[encoded data removed]",
      "text/plain": [
       "<Figure size 640x480 with 1 Axes>"
      ]
     },
     "metadata": {},
     "output_type": "display_data"
    }
   ],
   "source": [
    "plt.pie(sales, labels = customer, autopct = \"%1.1f%%\")\n",
    "plt.title(\"Top_Customers\")\n",
    "plt.show()"
   ]
  },
  {
   "cell_type": "code",
   "execution_count": null,
   "id": "4da9b886-3de5-44c5-a9c6-53a53a4e8bb1",
   "metadata": {},
   "outputs": [],
   "source": []
  }
 ],
 "metadata": {
  "kernelspec": {
   "display_name": "Python 3 (ipykernel)",
   "language": "python",
   "name": "python3"
  },
  "language_info": {
   "codemirror_mode": {
    "name": "ipython",
    "version": 3
   },
   "file_extension": ".py",
   "mimetype": "text/x-python",
   "name": "python",
   "nbconvert_exporter": "python",
   "pygments_lexer": "ipython3",
   "version": "3.11.7"
  }
 },
 "nbformat": 4,
 "nbformat_minor": 5
}
